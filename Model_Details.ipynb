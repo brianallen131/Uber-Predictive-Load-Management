{
 "cells": [
  {
   "cell_type": "markdown",
   "metadata": {},
   "source": [
    "\n",
    "## Simplest Model\n",
    "* Deterministic demand: assume we can perfectly predict the demand\n",
    "\n",
    "\n",
    "## Simple Model\n",
    "* Stocastic demand: \n",
    "  - Predicted demand follows a distribution\n",
    "  - True demand: $T$\n",
    "* Send $N$ cars into service areas\n",
    "* There are $M$ cars in the service areas before adjusting\n",
    "* Each car SENT TO service area incurs a fixed cost $K$ \n",
    "* Each customer gets services pays a fare amount $D_t$ follows distribution $D$\n",
    "* Customers' choices depend on waiting time and price \n",
    "* Demands get lost if there is no available cars\n",
    "* Cars are wasted if there is no demand\n",
    "* Objective:   maximize $\\Sigma_{t=1}^T D_t - NK$"
   ]
  }
 ],
 "metadata": {
  "kernelspec": {
   "display_name": "Python 3",
   "language": "python",
   "name": "python3"
  },
  "language_info": {
   "codemirror_mode": {
    "name": "ipython",
    "version": 3
   },
   "file_extension": ".py",
   "mimetype": "text/x-python",
   "name": "python",
   "nbconvert_exporter": "python",
   "pygments_lexer": "ipython3",
   "version": "3.6.4"
  }
 },
 "nbformat": 4,
 "nbformat_minor": 2
}
