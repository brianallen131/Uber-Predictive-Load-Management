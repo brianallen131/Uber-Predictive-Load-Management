{
 "cells": [
  {
   "cell_type": "code",
   "execution_count": 47,
   "metadata": {},
   "outputs": [],
   "source": [
    "import pandas as pd\n",
    "import numpy as np\n",
    "import math\n",
    "from pulp import *\n",
    "\n",
    "# x_ij = pd.read_csv(\"x_ij.csv\")\n",
    "# taus = pd.read_csv(\"taus.csv\")\n",
    "\n",
    "\n",
    "\n"
   ]
  },
  {
   "cell_type": "code",
   "execution_count": null,
   "metadata": {},
   "outputs": [],
   "source": [
    "# ========= SET-UP =========== #\n",
    "NUM_AREA = 2\n",
    "R = 11.5 # Revenue\n",
    "S = 1.5 # multiplier\n",
    "\n",
    "# ========== Data ============= #\n",
    "x_ij = np.matrix([[0.985, 0.615], [0.615, 0.985]]) # [[row]] - x11, x12, x21, x22\n",
    "c_ij = np.matrix([[0, 4.5], [4.5, 0]])\n",
    "\n",
    "d_i = [60, 20] # d_1, d_2\n",
    "n_0i = [10, 40] # n_01, n_02\n",
    "\n",
    "# ============== LP ============ #\n",
    "prob = LpProblem(\"Model\", LpMaximize)\n",
    "\n",
    "# Decision Variable - m_ij\n",
    "m_ij = np.matrix([[0]*NUM_AREA]*NUM_AREA)\n",
    "for i in range(NUM_AREA):\n",
    "    for j in range(NUM_AREA):\n",
    "        if i!=j:\n",
    "            m_ij[i,j] = LpVariable(\"m_%d%d\"%(i,j), 0, None, LpInteger)\n",
    "\n",
    "# Variable - n_1j \n",
    "n_1i = []\n",
    "for i in range(len(n_0i)):\n",
    "    n_1i.append(LpVariable(\"n_1%d\"%(i+1), 0, None, LpInteger))\n",
    "\n",
    "# Decision Variable - y_ij\n",
    "y_ij = np.matrix([[0]*NUM_AREA]*NUM_AREA)\n",
    "for i in range(NUM_AREA):\n",
    "    for j in range(NUM_AREA):\n",
    "        m_ij[i,j] = LpVariable(\"y_%d%d\"%(i,j), 0, None, LpInteger)\n",
    "\n",
    "\n",
    "# Objective\n",
    "prob += (sum([S*R*y_ij[i,j]*x_ij[i,j] - m_ij[i,j]*c_ij[i,j] for i in range(NUM_AREA) for j in range(NUM_AREA)])) \n",
    "\n",
    "# Subject To\n",
    "# n_1i\n",
    "for i in range(len(NUM_AREA)):\n",
    "    prob += n_1i[i] == n_0i[i] + \n",
    "prob += n11 == n01 + m21 - m12 \n",
    "prob += n12 == n02 + m12 - m21\n",
    "prob += n01 >= m12\n",
    "prob += n02 >= m21\n",
    "prob += y11 + y12 <= d1\n",
    "prob += y21 + y22 <= d2\n",
    "prob += y11*x11 + y21*x21 <= n11\n",
    "prob += y21*x21 + y22*x22 <= n12\n",
    "\n",
    "\n",
    "\n",
    "y = [y11, y12, y21, y22]\n",
    "x = [x11, x12, x21, x22]\n",
    "c = [c11, c12, c21, c22]\n",
    "m = [0, m12, m21, 0]\n",
    "\n",
    "\n"
   ]
  },
  {
   "cell_type": "code",
   "execution_count": 48,
   "metadata": {},
   "outputs": [],
   "source": [
    "# Old Model\n",
    "\n",
    "x11, x12, x21, x22 = 0.985, 0.615, 0.615,0.985\n",
    "c11, c12, c21, c22 = 0, 4.5, 4.5, 0\n",
    "d1, d2 = 60,20\n",
    "n01, n02 = 10, 40\n",
    "\n",
    "\n",
    "prob = LpProblem(\"Model\", LpMaximize)\n",
    "m12 = LpVariable(\"m12\", 0, None, LpInteger)\n",
    "m21 = LpVariable(\"m21\", 0, None, LpInteger)\n",
    "\n",
    "n11 = LpVariable(\"n11\", 0, None, LpInteger)\n",
    "n12 = LpVariable(\"n12\", 0, None, LpInteger)\n",
    "\n",
    "y12 = LpVariable(\"y12\", 0, None, LpInteger)\n",
    "y21 = LpVariable(\"y21\", 0, None, LpInteger)\n",
    "y11 = LpVariable(\"y11\", 0, None, LpInteger)\n",
    "y22 = LpVariable(\"y22\", 0, None, LpInteger)\n",
    "\n",
    "# Constants\n",
    "R = 11.5\n",
    "s = 1.5 # multiplier\n",
    "y = [y11, y12, y21, y22]\n",
    "x = [x11, x12, x21, x22]\n",
    "c = [c11, c12, c21, c22]\n",
    "m = [0, m12, m21, 0]\n",
    "\n",
    "prob += (sum([s*R*y[i]*x[i]  - m[i]*c[i] for i in range(len(y))])) \n",
    "prob += n11 == n01 + m21 - m12 \n",
    "prob += n12 == n02 + m12 - m21\n",
    "prob += n01 >= m12\n",
    "prob += n02 >= m21\n",
    "prob += y11 + y12 <= d1\n",
    "prob += y21 + y22 <= d2\n",
    "prob += y11*x11 + y21*x21 <= n11\n",
    "prob += y21*x21 + y22*x22 <= n12\n",
    "\n"
   ]
  },
  {
   "cell_type": "code",
   "execution_count": null,
   "metadata": {},
   "outputs": [],
   "source": []
  },
  {
   "cell_type": "code",
   "execution_count": 49,
   "metadata": {
    "scrolled": true
   },
   "outputs": [
    {
     "name": "stdout",
     "output_type": "stream",
     "text": [
      "m12 = 0.0\n",
      "m21 = 20.0\n",
      "n11 = 30.0\n",
      "n12 = 20.0\n",
      "y11 = 30.0\n",
      "y12 = 30.0\n",
      "y21 = 0.0\n",
      "y22 = 20.0\n"
     ]
    }
   ],
   "source": [
    "prob.solve()\n",
    "value(prob.objective)\n",
    "for v in prob.variables():\n",
    "    print (v.name, \"=\", v.varValue)"
   ]
  },
  {
   "cell_type": "code",
   "execution_count": 27,
   "metadata": {},
   "outputs": [
    {
     "data": {
      "text/plain": [
       "603.0"
      ]
     },
     "execution_count": 27,
     "metadata": {},
     "output_type": "execute_result"
    }
   ],
   "source": []
  },
  {
   "cell_type": "code",
   "execution_count": 52,
   "metadata": {},
   "outputs": [],
   "source": [
    "l = [LpVariable(\"m1\", 0, None, LpInteger), LpVariable(\"m2\", 0, None, LpInteger)]"
   ]
  },
  {
   "cell_type": "code",
   "execution_count": 53,
   "metadata": {},
   "outputs": [
    {
     "name": "stdout",
     "output_type": "stream",
     "text": [
      "m1 = None\n",
      "m2 = None\n"
     ]
    }
   ],
   "source": [
    "for v in l:\n",
    "    print (v.name, \"=\", v.varValue)"
   ]
  },
  {
   "cell_type": "code",
   "execution_count": 54,
   "metadata": {},
   "outputs": [
    {
     "data": {
      "text/plain": [
       "[2, 3, 4, 1, 3, 5, 3, 4, 5]"
      ]
     },
     "execution_count": 54,
     "metadata": {},
     "output_type": "execute_result"
    }
   ],
   "source": [
    "l = [[2,3,4], [1,3,5], [3,4,5]]\n",
    "[l[i][j] for i in range(len(l)) for j in range(len(l))]"
   ]
  },
  {
   "cell_type": "code",
   "execution_count": 65,
   "metadata": {},
   "outputs": [
    {
     "data": {
      "text/plain": [
       "matrix([[0, 1, 0],\n",
       "        [0, 0, 0],\n",
       "        [0, 0, 0]])"
      ]
     },
     "execution_count": 65,
     "metadata": {},
     "output_type": "execute_result"
    }
   ],
   "source": [
    "x = np.matrix([[0]*3]*3)\n",
    "x[0,1] = 1\n",
    "x"
   ]
  },
  {
   "cell_type": "code",
   "execution_count": 67,
   "metadata": {},
   "outputs": [
    {
     "data": {
      "text/plain": [
       "3"
      ]
     },
     "execution_count": 67,
     "metadata": {},
     "output_type": "execute_result"
    }
   ],
   "source": [
    "x = np.matrix([[2,3],[1,4]])\n",
    "sum(x[i,0] for i in range(2))"
   ]
  }
 ],
 "metadata": {
  "kernelspec": {
   "display_name": "Python 3",
   "language": "python",
   "name": "python3"
  },
  "language_info": {
   "codemirror_mode": {
    "name": "ipython",
    "version": 3
   },
   "file_extension": ".py",
   "mimetype": "text/x-python",
   "name": "python",
   "nbconvert_exporter": "python",
   "pygments_lexer": "ipython3",
   "version": "3.6.4"
  }
 },
 "nbformat": 4,
 "nbformat_minor": 2
}
