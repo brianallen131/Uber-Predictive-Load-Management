{
 "cells": [
  {
   "cell_type": "code",
   "execution_count": 47,
   "metadata": {},
   "outputs": [],
   "source": [
    "import pandas as pd\n",
    "import numpy as np\n",
    "import math\n",
    "from pulp import *\n",
    "from tabulate import tabulate"
   ]
  },
  {
   "cell_type": "code",
   "execution_count": 181,
   "metadata": {},
   "outputs": [
    {
     "name": "stdout",
     "output_type": "stream",
     "text": [
      "\n",
      " ======== Optimal Variables ========= \n",
      "\n",
      "m_01 = 0.0\n",
      "m_10 = 50.0\n",
      "n_10 = 60.0\n",
      "n_11 = 150.0\n",
      "y_00 = 60.0\n",
      "y_01 = 0.0\n",
      "y_10 = 0.0\n",
      "y_11 = 20.0\n",
      "Objective:  1259.3000000000002\n",
      "\n",
      " ======== Model Details ========= \n",
      "\n",
      "Constrain            Formula                                    pi    slack\n",
      "-------------------  ---------------------------------------  ----  -------\n",
      "Equation_Area:_0     m_01 - m_10 + n_10 = 10                    -0     -0\n",
      "Moving_Constrain:_0  m_01 <= 10                                 -0     10\n",
      "Total_Demand:_0      y_00 + y_01 <= 60                          -0     -0\n",
      "Total_Available:_0   -n_10 + 0.985*y_00 + 0.615*y_10 <= -0.0    -0      0.9\n",
      "Equation_Area:_1     -m_01 + m_10 + n_11 = 200                  -0     -0\n",
      "Moving_Constrain:_1  m_10 <= 200                                -0    150\n",
      "Total_Demand:_1      y_10 + y_11 <= 20                          -0     -0\n",
      "Total_Available:_1   -n_11 + 0.615*y_01 + 0.985*y_11 <= -0.0    -0    130.3\n"
     ]
    }
   ],
   "source": [
    "# ========= SET-UP =========== #\n",
    "NUM_AREA = 2\n",
    "R = 11.5 # Revenue\n",
    "S = 1.5 # Multiplier\n",
    "\n",
    "# ========== DATA ============= #\n",
    "x_ij = [[0.985, 0.615], [0.615, 0.985]] # [[row]] - x00, x01, x10, x11\n",
    "c_ij = [[0, 2], [2, 0]] # c00, c01, c10, c11\n",
    "\n",
    "d_i = [60, 20] # d_1, d_2\n",
    "n_0i = [10, 200] # n_01, n_02\n",
    "\n",
    "# ========= INIT LP ============ #\n",
    "prob = LpProblem(\"Model\", LpMaximize)\n",
    "\n",
    "m_ij = [[0]*NUM_AREA for _ in range(NUM_AREA)]\n",
    "y_ij = [[0]*NUM_AREA for _ in range(NUM_AREA)]\n",
    "n_1i = []\n",
    "for i in range(NUM_AREA):\n",
    "    n_1i.append(LpVariable(\"n_1%d\"%(i), 0, None, LpInteger))\n",
    "    for j in range(NUM_AREA):\n",
    "        y_ij[i][j] = LpVariable(\"y_%d%d\"%(i,j), 0, None, LpInteger)\n",
    "        if i!=j:\n",
    "            m_ij[i][j] = LpVariable(\"m_%d%d\"%(i,j), 0, None, LpInteger)\n",
    "\n",
    "# ========= CONSTRUCT LP ============ #\n",
    "\n",
    "# Objective\n",
    "prob += sum([S*R*y_ij[i][j]*x_ij[i][j] - m_ij[i][j]*c_ij[i][j] for i in range(NUM_AREA) for j in range(NUM_AREA)])\n",
    "\n",
    "# Subject To\n",
    "for j in range(NUM_AREA):\n",
    "    # n_1i\n",
    "    prob += n_1i[j] == n_0i[j] + sum(m_ij[i][j] for i in range(NUM_AREA)) - sum(m_ij[j][i] for i in range(NUM_AREA)), \"Equation Area: %d\"%j\n",
    "    # n_0i\n",
    "    prob += n_0i[j] >= sum(m_ij[j][i] for i in range(NUM_AREA)), \"Moving Constrain: %d\"%j\n",
    "    # y_ij\n",
    "    prob += sum(y_ij[j][i] for i in range(NUM_AREA)) <= d_i[j] ,\"Total Demand: %d\"%j\n",
    "    prob += sum(y_ij[i][j]*x_ij[i][j] for i in range(NUM_AREA)) <= n_1i[j] ,\"Total Available: %d\"%j\n",
    "    \n",
    "\n",
    "# ============== SOLVE ============= #\n",
    "prob.solve()\n",
    "print(\"\\n ======== Optimal Variables ========= \\n\")\n",
    "for v in prob.variables():\n",
    "    print (v.name, \"=\", v.varValue)\n",
    "print(\"Objective: \" ,value(prob.objective))\n",
    "\n",
    "print(\"\\n ======== Model Details ========= \\n\")\n",
    "results = []\n",
    "for name, c in list(prob.constraints.items()):\n",
    "    results.append([name,c,  c.pi,  c.slack])\n",
    "print (tabulate(results, headers=['Constrain', 'Formula', \"pi\", \"slack\"]))"
   ]
  }
 ],
 "metadata": {
  "kernelspec": {
   "display_name": "Python 3",
   "language": "python",
   "name": "python3"
  },
  "language_info": {
   "codemirror_mode": {
    "name": "ipython",
    "version": 3
   },
   "file_extension": ".py",
   "mimetype": "text/x-python",
   "name": "python",
   "nbconvert_exporter": "python",
   "pygments_lexer": "ipython3",
   "version": "3.6.4"
  }
 },
 "nbformat": 4,
 "nbformat_minor": 2
}
