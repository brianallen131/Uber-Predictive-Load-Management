{
 "cells": [
  {
   "cell_type": "code",
   "execution_count": 18,
   "metadata": {},
   "outputs": [],
   "source": [
    "import pandas as pd\n",
    "import numpy as np\n",
    "import math\n",
    "from pulp import *\n",
    "\n",
    "x_ij = pd.read_csv(\"x_ij.csv\")\n",
    "taus = pd.read_csv(\"taus.csv\")\n",
    "\n",
    "x11, x12, x21, x22 = 1,0.3,0.8,1\n",
    "c11, c12, c21, c22 = 0, 6,5, 0\n",
    "d1, d2 = 60, 20\n",
    "n01, n02 = 20,60"
   ]
  },
  {
   "cell_type": "code",
   "execution_count": 19,
   "metadata": {},
   "outputs": [],
   "source": [
    "prob = LpProblem(\"Model\", LpMaximize)\n",
    "m12 = LpVariable(\"m12\", 0, None, LpInteger)\n",
    "m21 = LpVariable(\"m21\", 0, None, LpInteger)\n",
    "\n",
    "n11 = LpVariable(\"n11\", 0, None, LpInteger)\n",
    "n12 = LpVariable(\"n12\", 0, None, LpInteger)\n",
    "\n",
    "y12 = LpVariable(\"y12\", 0, None, LpInteger)\n",
    "y21 = LpVariable(\"y21\", 0, None, LpInteger)\n",
    "y11 = LpVariable(\"y11\", 0, None, LpInteger)\n",
    "y22 = LpVariable(\"y22\", 0, None, LpInteger)\n",
    "\n",
    "# Constants\n",
    "R = 10 \n",
    "y = [y11, y12, y21, y22]\n",
    "x = [x11, x12, x21, x22]\n",
    "c = [c11, c12, c21, c22]\n",
    "m = [0, m12, m21, 0]\n",
    "\n",
    "prob += (sum([R*y[i]*x[i]  - m[i]*c[i] for i in range(len(y))])) \n",
    "prob += n11 == n01 + m21 - m12 \n",
    "prob += n12 == n02 + m12 - m21\n",
    "prob += n01 >= m12\n",
    "prob += n02 >= m21\n",
    "prob += y11 + y12 <= d1\n",
    "prob += y21 + y22 <= d2\n",
    "prob += y11*x11 + y21*x21 <= n11\n",
    "prob += y21*x21 + y22*x22 <= n12\n",
    "\n"
   ]
  },
  {
   "cell_type": "code",
   "execution_count": 20,
   "metadata": {},
   "outputs": [
    {
     "data": {
      "text/plain": [
       "1"
      ]
     },
     "execution_count": 20,
     "metadata": {},
     "output_type": "execute_result"
    }
   ],
   "source": [
    "prob.solve()"
   ]
  },
  {
   "cell_type": "code",
   "execution_count": 21,
   "metadata": {},
   "outputs": [
    {
     "data": {
      "text/plain": [
       "600.0"
      ]
     },
     "execution_count": 21,
     "metadata": {},
     "output_type": "execute_result"
    }
   ],
   "source": [
    "value(prob.objective)"
   ]
  },
  {
   "cell_type": "code",
   "execution_count": 22,
   "metadata": {},
   "outputs": [
    {
     "name": "stdout",
     "output_type": "stream",
     "text": [
      "m12 = 0.0\n",
      "m21 = 40.0\n",
      "n11 = 60.0\n",
      "n12 = 20.0\n",
      "y11 = 60.0\n",
      "y12 = 0.0\n",
      "y21 = 0.0\n",
      "y22 = 20.0\n"
     ]
    }
   ],
   "source": [
    "for v in prob.variables():\n",
    "    print (v.name, \"=\", v.varValue)"
   ]
  }
 ],
 "metadata": {
  "kernelspec": {
   "display_name": "Python 3",
   "language": "python",
   "name": "python3"
  },
  "language_info": {
   "codemirror_mode": {
    "name": "ipython",
    "version": 3
   },
   "file_extension": ".py",
   "mimetype": "text/x-python",
   "name": "python",
   "nbconvert_exporter": "python",
   "pygments_lexer": "ipython3",
   "version": "3.6.4"
  }
 },
 "nbformat": 4,
 "nbformat_minor": 2
}
