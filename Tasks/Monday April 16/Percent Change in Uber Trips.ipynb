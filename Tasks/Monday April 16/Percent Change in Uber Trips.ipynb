{
 "cells": [
  {
   "cell_type": "markdown",
   "metadata": {
    "collapsed": true
   },
   "source": [
    "<h1><center>Percent Change in Uber Trips After MSG Concert</center></h1>"
   ]
  },
  {
   "cell_type": "code",
   "execution_count": 24,
   "metadata": {},
   "outputs": [],
   "source": [
    "import numpy as np\n",
    "import pandas as pd\n",
    "import pygeohash as g\n",
    "from datetime import datetime, timedelta, date\n",
    "\n",
    "pickups_may14=pd.read_csv(\"uber-raw-data-may14.csv\")"
   ]
  },
  {
   "cell_type": "code",
   "execution_count": 3,
   "metadata": {},
   "outputs": [],
   "source": [
    "# Functions for data cleaning\n",
    "def convertDateTime(date):\n",
    "    return datetime.strptime(date, '%m/%d/%Y %H:%M:%S')\n",
    "\n",
    "def extractWeekday(date):\n",
    "    return date.weekday()\n",
    "\n",
    "def extractDate(date):\n",
    "    return date.date()\n",
    "\n",
    "def extractHour(date):\n",
    "    return date.hour\n",
    "\n",
    "def geoHash(lat,lon,precision):\n",
    "    return g.encode(lat,lon,precision)"
   ]
  },
  {
   "cell_type": "code",
   "execution_count": 4,
   "metadata": {},
   "outputs": [],
   "source": [
    "# Apply data cleaning functions\n",
    "\n",
    "pickups_may14['Date/Time'] = pickups_may14.apply(lambda x: convertDateTime(x['Date/Time']), axis=1)\n",
    "pickups_may14['Hour'] = pickups_may14.apply(lambda x: extractHour(x['Date/Time']), axis=1)\n",
    "pickups_may14['Date'] = pickups_may14.apply(lambda x: extractDate(x['Date/Time']), axis=1)\n",
    "pickups_may14['Weekday'] = pickups_may14.apply(lambda x: extractWeekday(x['Date/Time']), axis=1)\n",
    "pickups_may14['Geohash7'] = pickups_may14.apply(lambda x: geoHash(x['Lat'],x['Lon'],7), axis=1)"
   ]
  },
  {
   "cell_type": "code",
   "execution_count": 14,
   "metadata": {},
   "outputs": [],
   "source": [
    "# Merge MSG Geohashes\n",
    "\n",
    "lookup_msg = pd.read_csv('Lookups/MSG Geohash7 Lookup.csv')\n",
    "msg_pickups_may14 = pd.merge(pickups_may14,lookup_msg,on='Geohash7', how='inner')"
   ]
  },
  {
   "cell_type": "code",
   "execution_count": 65,
   "metadata": {},
   "outputs": [],
   "source": [
    "# Define relevant area\n",
    "pd.options.mode.chained_assignment = None\n",
    "\n",
    "relevant_area = msg_pickups_may14[(msg_pickups_may14['Weekday']==1) & (msg_pickups_may14['Hour']==22)]\n",
    "relevant_area['Control'] = relevant_area.apply(lambda x: (x['Date']!=date(2014,5,13))*1, axis=1)\n"
   ]
  },
  {
   "cell_type": "code",
   "execution_count": 83,
   "metadata": {},
   "outputs": [],
   "source": [
    "# Calculate average trips in this hour\n",
    "avg_trips = relevant_area.groupby(['Date','Control']).size().reset_index(name='Trips')\n",
    "avg_trips_experiment = avg_trips.groupby(['Control'])[['Trips']].mean().reset_index()"
   ]
  },
  {
   "cell_type": "code",
   "execution_count": 96,
   "metadata": {},
   "outputs": [
    {
     "name": "stdout",
     "output_type": "stream",
     "text": [
      "The number of Uber pickups after a concert is 62.00.\n",
      "The number of Uber pickups normally during the same hour is 5.33.\n",
      "The percent increase in pickups is 1062.5%.\n"
     ]
    }
   ],
   "source": [
    "# Summarize findings\n",
    "\n",
    "control = avg_trips_experiment['Trips'][1]\n",
    "experiment = avg_trips_experiment['Trips'][0]\n",
    "\n",
    "\n",
    "print(\"The number of Uber pickups after a concert is {:.2f}.\".format(experiment))\n",
    "print(\"The number of Uber pickups normally during the same hour is {:.2f}.\".format(control))\n",
    "print(\"The percent increase in pickups is {:.1f}%.\".format((experiment - control)/control*100))"
   ]
  },
  {
   "cell_type": "code",
   "execution_count": null,
   "metadata": {},
   "outputs": [],
   "source": []
  }
 ],
 "metadata": {
  "kernelspec": {
   "display_name": "Python 3",
   "language": "python",
   "name": "python3"
  },
  "language_info": {
   "codemirror_mode": {
    "name": "ipython",
    "version": 3
   },
   "file_extension": ".py",
   "mimetype": "text/x-python",
   "name": "python",
   "nbconvert_exporter": "python",
   "pygments_lexer": "ipython3",
   "version": "3.6.0"
  }
 },
 "nbformat": 4,
 "nbformat_minor": 1
}
