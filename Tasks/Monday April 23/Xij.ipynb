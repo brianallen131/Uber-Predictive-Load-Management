{
 "cells": [
  {
   "cell_type": "markdown",
   "metadata": {},
   "source": [
    "# Compute the $X_{ij}$ 's\n",
    "(Choice Model) $ X_{ij}$ \\- the probability a customer in location i chooses Uber given it comes from location j \n",
    "\n",
    "Assume the expected utility is a function of waiting time for Uber, and a fixed gain $V_S = 10$ (subway gain) for subway. \n",
    "$V_U = m\\_w -wait $. i.e. on average, if Uber can't arrive in $15$ (marginal wait time) minutes, customers tend to choose subway more. The error follows Gumble distribution with parameter $\\delta = 2$."
   ]
  },
  {
   "cell_type": "code",
   "execution_count": 22,
   "metadata": {},
   "outputs": [],
   "source": [
    "import pandas as pd\n",
    "import numpy as np\n",
    "import math\n",
    "taus = pd.read_csv(\"taus.csv\", header = 0)\n",
    "taus[\"avg(duration)\"] = taus[\"avg(duration)\"].astype(float)\n",
    "x_ij = pd.DataFrame(columns = [\"pickup_loc\", \"dropoff_loc\", \"x_ij\"])\n",
    "x_ij[\"pickup_loc\"] = taus[\"pickup_loc\"]\n",
    "x_ij[\"dropoff_loc\"] = taus[\"dropoff_loc\"]\n",
    "\n",
    "def compute_prob(wait, marginal_wait): # wait: seconds, marginal_wait: minutes\n",
    "    # P(choose Uber) = exp(V_U/delta) / (exp(V_U/delta) + 1)\n",
    "    DELTA = 2\n",
    "    v_u = marginal_wait - wait/60\n",
    "    return math.exp(v_u/DELTA) /(math.exp(v_u/DELTA)+1) \n",
    "\n",
    "x_ij[\"x_ij\"] = taus[\"avg(duration)\"].apply(lambda x: compute_prob(x, 15))"
   ]
  },
  {
   "cell_type": "code",
   "execution_count": 24,
   "metadata": {},
   "outputs": [],
   "source": [
    "x_ij.to_csv(\"x_ij.csv\")"
   ]
  }
 ],
 "metadata": {
  "kernelspec": {
   "display_name": "Python 3",
   "language": "python",
   "name": "python3"
  },
  "language_info": {
   "codemirror_mode": {
    "name": "ipython",
    "version": 3
   },
   "file_extension": ".py",
   "mimetype": "text/x-python",
   "name": "python",
   "nbconvert_exporter": "python",
   "pygments_lexer": "ipython3",
   "version": "3.6.4"
  }
 },
 "nbformat": 4,
 "nbformat_minor": 2
}
