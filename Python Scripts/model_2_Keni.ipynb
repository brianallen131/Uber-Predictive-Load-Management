{
 "cells": [
  {
   "cell_type": "code",
   "execution_count": 2,
   "metadata": {},
   "outputs": [],
   "source": [
    "import pandas as pd\n",
    "import numpy as np\n",
    "import math\n",
    "from pulp import *\n",
    "def optimizer (x_ij, c_ij, d_i, n_0i, R, NUM_AREA, alpha): \n",
    "    prob = LpProblem(\"Model\", LpMaximize)\n",
    "\n",
    "    m_ij = [[0]*NUM_AREA for _ in range(NUM_AREA)]\n",
    "    y_ij = [[0]*NUM_AREA for _ in range(NUM_AREA)]\n",
    "    n_1i = []\n",
    "    for i in range(NUM_AREA):\n",
    "        n_1i.append(LpVariable(\"n_1%d\"%(i), 0, None, LpInteger))\n",
    "        for j in range(NUM_AREA):\n",
    "            y_ij[i][j] = LpVariable(\"y_%d%d\"%(i,j), 0, None, LpInteger)\n",
    "            if i!=j:\n",
    "                m_ij[i][j] = LpVariable(\"m_%d%d\"%(i,j), 0, None, LpInteger)\n",
    "\n",
    "    # ========= CONSTRUCT LP ============ #\n",
    "\n",
    "    # Objective\n",
    "    prob += sum([alpha*y_ij[i][j]*x_ij[i][j]*R - (1-alpha) *m_ij[i][j]*c_ij[i][j] for i in range(NUM_AREA) for j in range(NUM_AREA)])\n",
    "\n",
    "    # Subject To\n",
    "    for j in range(NUM_AREA):\n",
    "        # n_1i\n",
    "        prob += n_1i[j] == n_0i[j] + sum(m_ij[i][j] for i in range(NUM_AREA)) - sum(m_ij[j][i] for i in range(NUM_AREA)), \"Equation Area: %d\"%j\n",
    "        # n_0i\n",
    "        prob += n_0i[j] >= sum(m_ij[j][i] for i in range(NUM_AREA)), \"Moving Constrain: %d\"%j\n",
    "        # y_ij\n",
    "        prob += sum(y_ij[j][i] for i in range(NUM_AREA)) <= d_i[j] ,\"Total Demand: %d\"%j\n",
    "        prob += sum(y_ij[i][j]*x_ij[i][j] for i in range(NUM_AREA)) <= n_1i[j] ,\"Total Available: %d\"%j\n",
    "\n",
    "    prob.solve()\n",
    "\n",
    "    return prob"
   ]
  },
  {
   "cell_type": "code",
   "execution_count": 10,
   "metadata": {},
   "outputs": [],
   "source": [
    "NUM_AREA = 3\n",
    "R = 13.45 # Revenue\n",
    "\n",
    "# ========== DATA ============= #\n",
    "\n",
    "x_ij = [[0.99, 0.68, 0.17], \n",
    "        [0.68, 0.962, 0.54], \n",
    "        [0.17,0.44,0.99]] # [[row]] - x00, x01, x10, x11, move cars from j to i\n",
    "\n",
    "c_ij = [[0, 4.14,8.1], \n",
    "        [4.14, 0, 5.2], \n",
    "        [8.1,5.2,0]] # c00, c01, c10, c11 # Move cars from i to j\n",
    "\n",
    "\n",
    "c_control = [[0, 999, 6999], \n",
    "        [999, 0, 999], \n",
    "        [999,999,0]] # c00, c01, c10, c11 # Move cars from i to j\n",
    "\n",
    "n_0i = [5,44,9999]\n",
    "d_i = [100, 20,0]\n",
    "res = [] # list of n_10's\n",
    "\n",
    "opt = 0\n",
    "for a in range(1,100):\n",
    "    alpha = a/100\n",
    "    out = optimizer (x_ij, c_ij, d_i, n_0i, R, NUM_AREA, alpha)\n",
    "    if value(out.objective) > opt:\n",
    "        bestModel = out\n",
    "        opt = value(out.objective)\n",
    "    res.append(out.variables()[6].varValue)"
   ]
  },
  {
   "cell_type": "code",
   "execution_count": 11,
   "metadata": {},
   "outputs": [
    {
     "data": {
      "image/png": "[encoded data removed]",
      "text/plain": [
       "<matplotlib.figure.Figure at 0x2823520ea90>"
      ]
     },
     "metadata": {},
     "output_type": "display_data"
    }
   ],
   "source": [
    "import matplotlib.pyplot as plt\n",
    "plt.plot([a/100 for a in range(1, 100)],res )\n",
    "plt.title(\"# Cars in Region 1 after Reallocation\")\n",
    "plt.xlabel(\"alpha\")\n",
    "plt.show()"
   ]
  }
 ],
 "metadata": {
  "kernelspec": {
   "display_name": "Python 3",
   "language": "python",
   "name": "python3"
  },
  "language_info": {
   "codemirror_mode": {
    "name": "ipython",
    "version": 3
   },
   "file_extension": ".py",
   "mimetype": "text/x-python",
   "name": "python",
   "nbconvert_exporter": "python",
   "pygments_lexer": "ipython3",
   "version": "3.6.4"
  }
 },
 "nbformat": 4,
 "nbformat_minor": 2
}
