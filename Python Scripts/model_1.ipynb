{
 "cells": [
  {
   "cell_type": "code",
   "execution_count": 7,
   "metadata": {},
   "outputs": [],
   "source": [
    "import pandas as pd\n",
    "import numpy as np\n",
    "import math\n",
    "from pulp import *\n",
    "from tabulate import tabulate\n",
    "\n",
    "def optimizer (x_ij, c_ij, d_i, n_0i, R, NUM_AREA):\n",
    "    prob = LpProblem(\"Model\", LpMaximize)\n",
    "\n",
    "    m_ij = [[0]*NUM_AREA for _ in range(NUM_AREA)]\n",
    "    y_ij = [[0]*NUM_AREA for _ in range(NUM_AREA)]\n",
    "    n_1i = []\n",
    "    for i in range(NUM_AREA):\n",
    "        n_1i.append(LpVariable(\"n_1%d\"%(i), 0, None, LpInteger))\n",
    "        for j in range(NUM_AREA):\n",
    "            y_ij[i][j] = LpVariable(\"y_%d%d\"%(i,j), 0, None, LpInteger)\n",
    "            if i!=j:\n",
    "                m_ij[i][j] = LpVariable(\"m_%d%d\"%(i,j), 0, None, LpInteger)\n",
    "\n",
    "    # ========= CONSTRUCT LP ============ #\n",
    "\n",
    "    # Objective\n",
    "    prob += sum([R*y_ij[i][j]*x_ij[i][j] - m_ij[i][j]*c_ij[i][j] for i in range(NUM_AREA) for j in range(NUM_AREA)])\n",
    "\n",
    "    # Subject To\n",
    "    for j in range(NUM_AREA):\n",
    "        # n_1i\n",
    "        prob += n_1i[j] == n_0i[j] + sum(m_ij[i][j] for i in range(NUM_AREA)) - sum(m_ij[j][i] for i in range(NUM_AREA)), \"Equation Area: %d\"%j\n",
    "        # n_0i\n",
    "        prob += n_0i[j] >= sum(m_ij[j][i] for i in range(NUM_AREA)), \"Moving Constrain: %d\"%j\n",
    "        # y_ij\n",
    "        prob += sum(y_ij[j][i] for i in range(NUM_AREA)) <= d_i[j] ,\"Total Demand: %d\"%j\n",
    "        prob += sum(y_ij[i][j]*x_ij[i][j] for i in range(NUM_AREA)) <= n_1i[j] ,\"Total Available: %d\"%j\n",
    "\n",
    "\n",
    "    # ============== SOLVE ============= #\n",
    "    prob.solve()\n",
    "    return prob\n",
    "    #return value(prob.objective)"
   ]
  },
  {
   "cell_type": "code",
   "execution_count": 12,
   "metadata": {},
   "outputs": [
    {
     "data": {
      "text/plain": [
       "[827.8356,\n",
       " 830.1374000000001,\n",
       " 832.4392,\n",
       " 834.741,\n",
       " 837.0428,\n",
       " 839.3446,\n",
       " 841.6464,\n",
       " 843.9482,\n",
       " 846.25,\n",
       " 848.5518,\n",
       " 850.8536,\n",
       " 853.1554,\n",
       " 855.4572000000001,\n",
       " 857.759,\n",
       " 860.0608,\n",
       " 862.3626,\n",
       " 864.6644,\n",
       " 866.9662000000001,\n",
       " 869.268,\n",
       " 871.5698,\n",
       " 873.8716000000001,\n",
       " 876.1734,\n",
       " 878.4752,\n",
       " 880.777,\n",
       " 883.0788,\n",
       " 885.3806,\n",
       " 887.6824,\n",
       " 889.9842,\n",
       " 892.2860000000001,\n",
       " 894.5878,\n",
       " 896.8896,\n",
       " 899.1914,\n",
       " 901.4932,\n",
       " 903.7950000000001,\n",
       " 906.0968,\n",
       " 908.3986,\n",
       " 910.7004000000001,\n",
       " 913.0022,\n",
       " 915.304,\n",
       " 917.6058,\n",
       " 919.9076]"
      ]
     },
     "execution_count": 12,
     "metadata": {},
     "output_type": "execute_result"
    }
   ],
   "source": [
    "NUM_AREA = 3\n",
    "R = 13.54 # Revenue\n",
    "alpha = 1 # Multiplier\n",
    "\n",
    "# ========== DATA ============= #\n",
    "\n",
    "x_ij = [[0.99, 0.68, 0.17], \n",
    "        [0.68, 0.962, 0.54], \n",
    "        [0.17,0.54,0.99]] # [[row]] - x00, x01, x10, x11, move cars from j to i\n",
    "\n",
    "c_ij = [[0, 4.14,8.1], \n",
    "        [4.14, 0, 5.2], \n",
    "        [8.1,5.2,0]] # c00, c01, c10, c11 # Move cars from i to j\n",
    "\n",
    "c_control = [[0, 999, 6999], \n",
    "        [999, 0, 999], \n",
    "        [999,999,0]] # c00, c01, c10, c11 # Move cars from i to j\n",
    "\n",
    "n_0i = [5,44,9999]\n",
    "\n",
    "res = []\n",
    "\n",
    "for d1 in range(80,121):\n",
    "    d_i = [d1, 20,0]\n",
    "    out = optimizer (x_ij, c_control, d_i, n_0i, R, NUM_AREA)\n",
    "    res.append(value(out.objective))\n",
    "res"
   ]
  },
  {
   "cell_type": "code",
   "execution_count": 13,
   "metadata": {},
   "outputs": [],
   "source": [
    "pd.DataFrame(res).to_csv(\"di_bases.csv\")"
   ]
  },
  {
   "cell_type": "code",
   "execution_count": 3,
   "metadata": {},
   "outputs": [
    {
     "data": {
      "text/plain": [
       "'for d1 in range(80,200):\\n    d_i = [d1, 20,0]\\n    out = optimizer (x_ij, c_ij, d_i, n_0i, R, NUM_AREA)\\n    control = optimizer (x_ij, c_control, d_i, n_0i, R, NUM_AREA)\\n    res.append((out-control)/control)\\n    outs.append(out)\\n    controls.append(control)'"
      ]
     },
     "execution_count": 3,
     "metadata": {},
     "output_type": "execute_result"
    }
   ],
   "source": [
    "NUM_AREA = 3\n",
    "R = 13.54# Revenue\n",
    "\n",
    "# ========== DATA ============= #\n",
    "\n",
    "x_ij = [[0.99, 0.68, 0.17], \n",
    "        [0.68, 0.962, 0.54], \n",
    "        [0.17,0.44,0.99]] # [[row]] - x00, x01, x10, x11, move cars from j to i\n",
    "\n",
    "c_ij = [[0, 4.14,8.1], \n",
    "        [4.14, 0, 5.2], \n",
    "        [8.1,5.2,0]] # c00, c01, c10, c11 # Move cars from i to j\n",
    "\n",
    "c_control = [[0, 999, 6999], \n",
    "        [999, 0, 999], \n",
    "        [999,999,0]] # c00, c01, c10, c11 # Move cars from i to j\n",
    "\n",
    "n_0i = [5,44,9999]\n",
    "\n",
    "res = []\n",
    "outs = []\n",
    "controls = []\n",
    "for d1 in range(80,200):\n",
    "    d_i = [d1, 20,0]\n",
    "    out = optimizer (x_ij, c_ij, d_i, n_0i, R, NUM_AREA)\n",
    "    control = optimizer (x_ij, c_control, d_i, n_0i, R, NUM_AREA)\n",
    "    res.append((out-control)/control)\n",
    "    outs.append(out)\n",
    "    controls.append(control)"
   ]
  },
  {
   "cell_type": "code",
   "execution_count": 6,
   "metadata": {},
   "outputs": [
    {
     "data": {
      "text/plain": [
       "873.8716000000001"
      ]
     },
     "execution_count": 6,
     "metadata": {},
     "output_type": "execute_result"
    }
   ],
   "source": [
    "value(optimizer(x_ij, c_control,[100, 20,0], n_0i, 13.54, 3 ).objective)"
   ]
  },
  {
   "cell_type": "code",
   "execution_count": 45,
   "metadata": {},
   "outputs": [
    {
     "name": "stdout",
     "output_type": "stream",
     "text": [
      "m_01 = 0.0\n",
      "m_02 = 0.0\n",
      "m_10 = 0.0\n",
      "m_12 = 0.0\n",
      "m_20 = 0.0\n",
      "m_21 = 0.0\n",
      "n_10 = 5.0\n",
      "n_11 = 44.0\n",
      "n_12 = 9999.0\n",
      "y_00 = 5.0\n",
      "y_01 = 64.0\n",
      "y_02 = 31.0\n",
      "y_10 = 0.0\n",
      "y_11 = 0.0\n",
      "y_12 = 20.0\n",
      "y_20 = 0.0\n",
      "y_21 = 0.0\n",
      "y_22 = 0.0\n",
      "873.8716000000001\n"
     ]
    }
   ],
   "source": [
    "# Control\n",
    "for v in optimizer(x_ij, c_control,[100, 20,0], n_0i, 13.54, 3 ).variables():\n",
    "    print (v.name, \"=\", v.varValue)\n",
    "print (value(optimizer(x_ij, c_control,[100, 20,0], n_0i, 13.54, 3 ).objective))"
   ]
  },
  {
   "cell_type": "code",
   "execution_count": 19,
   "metadata": {},
   "outputs": [
    {
     "name": "stdout",
     "output_type": "stream",
     "text": [
      "m_01 = 0.0\n",
      "m_02 = 0.0\n",
      "m_10 = 0.0\n",
      "m_12 = 0.0\n",
      "m_20 = 0.0\n",
      "m_21 = 0.0\n",
      "n_10 = 5.0\n",
      "n_11 = 44.0\n",
      "n_12 = 9999.0\n",
      "y_00 = 5.0\n",
      "y_01 = 63.0\n",
      "y_02 = 32.0\n",
      "y_10 = 0.0\n",
      "y_11 = 1.0\n",
      "y_12 = 19.0\n",
      "y_20 = 0.0\n",
      "y_21 = 0.0\n",
      "y_22 = 0.0\n",
      "Objective:  844.38148\n",
      "\n",
      " ======== Model Details ========= \n",
      "\n",
      "Constrain            Formula                                               pi     slack\n",
      "-------------------  --------------------------------------------------  ----  --------\n",
      "Equation_Area:_0     m_01 + m_02 - m_10 - m_20 + n_10 = 5                  -0    -0\n",
      "Moving_Constrain:_0  m_01 + m_02 <= 5                                      -0     5\n",
      "Total_Demand:_0      y_00 + y_01 + y_02 <= 100                             -0    -0\n",
      "Total_Available:_0   -n_10 + 0.99*y_00 + 0.68*y_10 + 0.17*y_20 <= -0.0     -0     0.05\n",
      "Equation_Area:_1     -m_01 + m_10 + m_12 - m_21 + n_11 = 44                -0    -0\n",
      "Moving_Constrain:_1  m_10 + m_12 <= 44                                     -0    44\n",
      "Total_Demand:_1      y_10 + y_11 + y_12 <= 20                              -0    -0\n",
      "Total_Available:_1   -n_11 + 0.68*y_01 + 0.962*y_11 + 0.44*y_21 <= -0.0    -0     0.198\n",
      "Equation_Area:_2     -m_02 - m_12 + m_20 + m_21 + n_12 = 9999              -0    -0\n",
      "Moving_Constrain:_2  m_20 + m_21 <= 9999                                   -0  9999\n",
      "Total_Demand:_2      y_20 + y_21 + y_22 <= 0                               -0    -0\n",
      "Total_Available:_2   -n_12 + 0.17*y_02 + 0.43*y_12 + 0.99*y_22 <= -0.0     -0  9985.39\n"
     ]
    }
   ],
   "source": [
    "for v in prob.variables():\n",
    "    print (v.name, \"=\", v.varValue)\n",
    "print(\"Objective: \" ,value(prob.objective))\n",
    "\n",
    "print(\"\\n ======== Model Details ========= \\n\")\n",
    "results = []\n",
    "for name, c in list(prob.constraints.items()):\n",
    "    results.append([name,c,  c.pi,  c.slack])\n",
    "print (tabulate(results, headers=['Constrain', 'Formula', \"pi\", \"slack\"]))"
   ]
  },
  {
   "cell_type": "code",
   "execution_count": 32,
   "metadata": {},
   "outputs": [
    {
     "data": {
      "image/png": "[encoded data removed]",
      "text/plain": [
       "<matplotlib.figure.Figure at 0x26f17f1fac8>"
      ]
     },
     "metadata": {},
     "output_type": "display_data"
    }
   ],
   "source": [
    "import matplotlib.pyplot as plt\n",
    "plt.plot(list(range(80,200)),res)\n",
    "plt.xlabel(\"Demand in Region 1\")\n",
    "plt.title(\"Demand vs. Revenue Increases\")\n",
    "plt.show()"
   ]
  }
 ],
 "metadata": {
  "kernelspec": {
   "display_name": "Python 3",
   "language": "python",
   "name": "python3"
  },
  "language_info": {
   "codemirror_mode": {
    "name": "ipython",
    "version": 3
   },
   "file_extension": ".py",
   "mimetype": "text/x-python",
   "name": "python",
   "nbconvert_exporter": "python",
   "pygments_lexer": "ipython3",
   "version": "3.6.4"
  }
 },
 "nbformat": 4,
 "nbformat_minor": 2
}
