{
 "cells": [
  {
   "cell_type": "code",
   "execution_count": 1,
   "metadata": {},
   "outputs": [],
   "source": [
    "import pandas as pd\n",
    "import numpy as np\n",
    "import math\n",
    "from pulp import *\n",
    "from tabulate import tabulate\n",
    "\n",
    "def optimizer (x_ij, c_ij, d_i, n_0i, R, NUM_AREA):\n",
    "    prob = LpProblem(\"Model\", LpMaximize)\n",
    "\n",
    "    m_ij = [[0]*NUM_AREA for _ in range(NUM_AREA)]\n",
    "    y_ij = [[0]*NUM_AREA for _ in range(NUM_AREA)]\n",
    "    n_1i = []\n",
    "    for i in range(NUM_AREA):\n",
    "        n_1i.append(LpVariable(\"n_1%d\"%(i), 0, None, LpInteger))\n",
    "        for j in range(NUM_AREA):\n",
    "            y_ij[i][j] = LpVariable(\"y_%d%d\"%(i,j), 0, None, LpInteger)\n",
    "            if i!=j:\n",
    "                m_ij[i][j] = LpVariable(\"m_%d%d\"%(i,j), 0, None, LpInteger)\n",
    "\n",
    "    # ========= CONSTRUCT LP ============ #\n",
    "\n",
    "    # Objective\n",
    "    prob += sum([R*y_ij[i][j]*x_ij[i][j] - m_ij[i][j]*c_ij[i][j] for i in range(NUM_AREA) for j in range(NUM_AREA)])\n",
    "\n",
    "    # Subject To\n",
    "    for j in range(NUM_AREA):\n",
    "        # n_1i\n",
    "        prob += n_1i[j] == n_0i[j] + sum(m_ij[i][j] for i in range(NUM_AREA)) - sum(m_ij[j][i] for i in range(NUM_AREA)), \"Equation Area: %d\"%j\n",
    "        # n_0i\n",
    "        prob += n_0i[j] >= sum(m_ij[j][i] for i in range(NUM_AREA)), \"Moving Constrain: %d\"%j\n",
    "        # y_ij\n",
    "        prob += sum(y_ij[j][i] for i in range(NUM_AREA)) <= d_i[j] ,\"Total Demand: %d\"%j\n",
    "        prob += sum(y_ij[i][j]*x_ij[i][j] for i in range(NUM_AREA)) <= n_1i[j] ,\"Total Available: %d\"%j\n",
    "\n",
    "\n",
    "    # ============== SOLVE ============= #\n",
    "    prob.solve()\n",
    "    return value(prob.objective)"
   ]
  },
  {
   "cell_type": "code",
   "execution_count": 8,
   "metadata": {},
   "outputs": [],
   "source": [
    "NUM_AREA = 3\n",
    "R = 13.54 # Revenue\n",
    "\n",
    "# ========== DATA ============= #\n",
    "\n",
    "x_ij = [[0.99, 0.68, 0.17], \n",
    "        [0.68, 0.962, 0.43], \n",
    "        [0.17,0.44,0.99]] # [[row]] - x00, x01, x10, x11, move cars from j to i\n",
    "\n",
    "c_ij = [[0, 4.14, 6.52], \n",
    "        [4.14, 0, 5.18], \n",
    "        [6.52,5.18,0]] # c00, c01, c10, c11 # Move cars from i to j\n",
    "\n",
    "c_control = [[0, 999, 6999], \n",
    "        [999, 0, 999], \n",
    "        [999,999,0]] # c00, c01, c10, c11 # Move cars from i to j\n",
    "\n",
    "n_0i = [5,44,9999]\n",
    "\n",
    "res = []\n",
    "outs = []\n",
    "controls = []\n",
    "for d1 in range(80,200):\n",
    "    d_i = [d1, 20,0]\n",
    "    out = optimizer (x_ij, c_ij, d_i, n_0i, R, NUM_AREA)\n",
    "    control = optimizer (x_ij, c_control, d_i, n_0i, R, NUM_AREA)\n",
    "    res.append((out-control)/control)\n",
    "    outs.append(out)\n",
    "    controls.append(control)"
   ]
  },
  {
   "cell_type": "code",
   "execution_count": 9,
   "metadata": {},
   "outputs": [
    {
     "name": "stdout",
     "output_type": "stream",
     "text": [
      "out: 1065.18 Control: 844.38\n"
     ]
    }
   ],
   "source": [
    "print(\"out: %.2f Control: %.2f\"%(outs[20], controls[20]))"
   ]
  },
  {
   "cell_type": "code",
   "execution_count": 11,
   "metadata": {},
   "outputs": [
    {
     "data": {
      "image/png": "[encoded data removed]",
      "text/plain": [
       "<matplotlib.figure.Figure at 0x26f17a8dac8>"
      ]
     },
     "metadata": {},
     "output_type": "display_data"
    }
   ],
   "source": [
    "import matplotlib.pyplot as plt\n",
    "plt.plot(res)\n",
    "plt.xlabel(\"Demand in Region 1\")\n",
    "plt.title(\"Demand vs. Revenue Increases\")\n",
    "plt.show()"
   ]
  }
 ],
 "metadata": {
  "kernelspec": {
   "display_name": "Python 3",
   "language": "python",
   "name": "python3"
  },
  "language_info": {
   "codemirror_mode": {
    "name": "ipython",
    "version": 3
   },
   "file_extension": ".py",
   "mimetype": "text/x-python",
   "name": "python",
   "nbconvert_exporter": "python",
   "pygments_lexer": "ipython3",
   "version": "3.6.4"
  }
 },
 "nbformat": 4,
 "nbformat_minor": 2
}
