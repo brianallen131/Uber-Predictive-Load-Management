{
 "cells": [
  {
   "cell_type": "code",
   "execution_count": 21,
   "metadata": {},
   "outputs": [],
   "source": [
    "import pandas as pd\n",
    "import numpy as np\n",
    "import math\n",
    "from pulp import *\n",
    "from tabulate import tabulate\n",
    "\n",
    "def optimizer (x_ij, c_ij, d_i, n_0i, R, NUM_AREA):\n",
    "    prob = LpProblem(\"Model\", LpMaximize)\n",
    "\n",
    "    m_ij = [[0]*NUM_AREA for _ in range(NUM_AREA)]\n",
    "    y_ij = [[0]*NUM_AREA for _ in range(NUM_AREA)]\n",
    "    n_1i = []\n",
    "    for i in range(NUM_AREA):\n",
    "        n_1i.append(LpVariable(\"n_1%d\"%(i), 0, None, LpInteger))\n",
    "        for j in range(NUM_AREA):\n",
    "            y_ij[i][j] = LpVariable(\"y_%d%d\"%(i,j), 0, None, LpInteger)\n",
    "            if i!=j:\n",
    "                m_ij[i][j] = LpVariable(\"m_%d%d\"%(i,j), 0, None, LpInteger)\n",
    "\n",
    "    # ========= CONSTRUCT LP ============ #\n",
    "\n",
    "    # Objective\n",
    "    prob += sum([R*y_ij[i][j]*x_ij[i][j] - m_ij[i][j]*c_ij[i][j] for i in range(NUM_AREA) for j in range(NUM_AREA)])\n",
    "\n",
    "    # Subject To\n",
    "    for j in range(NUM_AREA):\n",
    "        # n_1i\n",
    "        prob += n_1i[j] == n_0i[j] + sum(m_ij[i][j] for i in range(NUM_AREA)) - sum(m_ij[j][i] for i in range(NUM_AREA)), \"Equation Area: %d\"%j\n",
    "        # n_0i\n",
    "        prob += n_0i[j] >= sum(m_ij[j][i] for i in range(NUM_AREA)), \"Moving Constrain: %d\"%j\n",
    "        # y_ij\n",
    "        prob += sum(y_ij[j][i] for i in range(NUM_AREA)) <= d_i[j] ,\"Total Demand: %d\"%j\n",
    "        prob += sum(y_ij[i][j]*x_ij[i][j] for i in range(NUM_AREA)) <= n_1i[j] ,\"Total Available: %d\"%j\n",
    "\n",
    "\n",
    "    # ============== SOLVE ============= #\n",
    "    prob.solve()\n",
    "    #return prob\n",
    "    return value(prob.objective)"
   ]
  },
  {
   "cell_type": "code",
   "execution_count": 22,
   "metadata": {},
   "outputs": [],
   "source": [
    "NUM_AREA = 3\n",
    "R = 13.54 # Revenue\n",
    "\n",
    "# ========== DATA ============= #\n",
    "\n",
    "x_ij = [[0.99, 0.68, 0.17], \n",
    "        [0.68, 0.962, 0.43], \n",
    "        [0.17,0.44,0.99]] # [[row]] - x00, x01, x10, x11, move cars from j to i\n",
    "\n",
    "c_ij = [[0, 4.14,8.1], \n",
    "        [4.14, 0, 5.2], \n",
    "        [8.1,5.2,0]] # c00, c01, c10, c11 # Move cars from i to j\n",
    "\n",
    "c_control = [[0, 999, 6999], \n",
    "        [999, 0, 999], \n",
    "        [999,999,0]] # c00, c01, c10, c11 # Move cars from i to j\n",
    "\n",
    "n_0i = [5,44,9999]\n",
    "\n",
    "res = []\n",
    "outs = []\n",
    "controls = []\n",
    "for d1 in range(80,200):\n",
    "    d_i = [d1, 20,0]\n",
    "    out = optimizer (x_ij, c_ij, d_i, n_0i, R, NUM_AREA)\n",
    "    control = optimizer (x_ij, c_control, d_i, n_0i, R, NUM_AREA)\n",
    "    res.append((out-control)/control)\n",
    "    outs.append(out)\n",
    "    controls.append(control)"
   ]
  },
  {
   "cell_type": "code",
   "execution_count": 18,
   "metadata": {},
   "outputs": [],
   "source": [
    "prob = optimizer(x_ij, c_control,[100, 20,0], n_0i, 13.54, 3 )"
   ]
  },
  {
   "cell_type": "code",
   "execution_count": 19,
   "metadata": {},
   "outputs": [
    {
     "name": "stdout",
     "output_type": "stream",
     "text": [
      "m_01 = 0.0\n",
      "m_02 = 0.0\n",
      "m_10 = 0.0\n",
      "m_12 = 0.0\n",
      "m_20 = 0.0\n",
      "m_21 = 0.0\n",
      "n_10 = 5.0\n",
      "n_11 = 44.0\n",
      "n_12 = 9999.0\n",
      "y_00 = 5.0\n",
      "y_01 = 63.0\n",
      "y_02 = 32.0\n",
      "y_10 = 0.0\n",
      "y_11 = 1.0\n",
      "y_12 = 19.0\n",
      "y_20 = 0.0\n",
      "y_21 = 0.0\n",
      "y_22 = 0.0\n",
      "Objective:  844.38148\n",
      "\n",
      " ======== Model Details ========= \n",
      "\n",
      "Constrain            Formula                                               pi     slack\n",
      "-------------------  --------------------------------------------------  ----  --------\n",
      "Equation_Area:_0     m_01 + m_02 - m_10 - m_20 + n_10 = 5                  -0    -0\n",
      "Moving_Constrain:_0  m_01 + m_02 <= 5                                      -0     5\n",
      "Total_Demand:_0      y_00 + y_01 + y_02 <= 100                             -0    -0\n",
      "Total_Available:_0   -n_10 + 0.99*y_00 + 0.68*y_10 + 0.17*y_20 <= -0.0     -0     0.05\n",
      "Equation_Area:_1     -m_01 + m_10 + m_12 - m_21 + n_11 = 44                -0    -0\n",
      "Moving_Constrain:_1  m_10 + m_12 <= 44                                     -0    44\n",
      "Total_Demand:_1      y_10 + y_11 + y_12 <= 20                              -0    -0\n",
      "Total_Available:_1   -n_11 + 0.68*y_01 + 0.962*y_11 + 0.44*y_21 <= -0.0    -0     0.198\n",
      "Equation_Area:_2     -m_02 - m_12 + m_20 + m_21 + n_12 = 9999              -0    -0\n",
      "Moving_Constrain:_2  m_20 + m_21 <= 9999                                   -0  9999\n",
      "Total_Demand:_2      y_20 + y_21 + y_22 <= 0                               -0    -0\n",
      "Total_Available:_2   -n_12 + 0.17*y_02 + 0.43*y_12 + 0.99*y_22 <= -0.0     -0  9985.39\n"
     ]
    }
   ],
   "source": [
    "for v in prob.variables():\n",
    "    print (v.name, \"=\", v.varValue)\n",
    "print(\"Objective: \" ,value(prob.objective))\n",
    "\n",
    "print(\"\\n ======== Model Details ========= \\n\")\n",
    "results = []\n",
    "for name, c in list(prob.constraints.items()):\n",
    "    results.append([name,c,  c.pi,  c.slack])\n",
    "print (tabulate(results, headers=['Constrain', 'Formula', \"pi\", \"slack\"]))"
   ]
  },
  {
   "cell_type": "code",
   "execution_count": 23,
   "metadata": {},
   "outputs": [
    {
     "data": {
      "image/png": "[encoded data removed]",
      "text/plain": [
       "<matplotlib.figure.Figure at 0x26f17e5dda0>"
      ]
     },
     "metadata": {},
     "output_type": "display_data"
    }
   ],
   "source": [
    "import matplotlib.pyplot as plt\n",
    "plt.plot(res)\n",
    "plt.xlabel(\"Demand in Region 1\")\n",
    "plt.title(\"Demand vs. Revenue Increases\")\n",
    "plt.show()"
   ]
  }
 ],
 "metadata": {
  "kernelspec": {
   "display_name": "Python 3",
   "language": "python",
   "name": "python3"
  },
  "language_info": {
   "codemirror_mode": {
    "name": "ipython",
    "version": 3
   },
   "file_extension": ".py",
   "mimetype": "text/x-python",
   "name": "python",
   "nbconvert_exporter": "python",
   "pygments_lexer": "ipython3",
   "version": "3.6.4"
  }
 },
 "nbformat": 4,
 "nbformat_minor": 2
}
