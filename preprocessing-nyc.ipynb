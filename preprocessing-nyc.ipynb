{
 "cells": [
  {
   "cell_type": "code",
   "execution_count": 1,
   "metadata": {},
   "outputs": [],
   "source": [
    "import pyspark\n",
    "sc = pyspark.SparkContext(appName=\"NYC\")\n",
    "dataRDD = sc.textFile(\"yellow_tripdata_2014-05.csv\",10)\n",
    "header = dataRDD.first()\n",
    "dataNoHeadRDD = dataRDD.filter(lambda x: not x == header and not x==\"\")\n",
    "data = dataNoHeadRDD.map(lambda l: l.split(\",\")).filter(lambda l:len(l) == 18).filter(lambda l: float(l[4])>0)"
   ]
  },
  {
   "cell_type": "code",
   "execution_count": 12,
   "metadata": {},
   "outputs": [],
   "source": [
    "from datetime import datetime\n",
    "from datetime import timedelta\n",
    "import pygeohash as g\n",
    "\n",
    "# g.encode(lat,lon,precision)\n",
    "PERCISION = 7\n",
    "def parse(string):\n",
    "    return datetime.strptime(string, \"%Y-%m-%d %H:%M:%S\")\n",
    "data_need = data.map(lambda l: (l[1], l[2], float(l[4]), g.encode(float(l[6]), float(l[5]),PERCISION), \n",
    "                                g.encode(float(l[10]),float(l[9]),PERCISION), float(l[12]),float(l[-1]), str((parse(l[2])-parse(l[1])).total_seconds())))\n",
    "# percision = 7\n",
    "msg = [\"dr5ru4w\",\"dr5ru4x\",\"dr5ru4q\",\"dr5ru4r\",\"dr5ru4n\",\"dr5ru4p\",\"dr5ru68\",\"dr5ru69\",\"dr5ru62\",\"dr5ru63\",\"dr5ru60\",\"dr5ru61\"]\n",
    "data_MSG = data_need.filter(lambda l: l[3] in msg )"
   ]
  },
  {
   "cell_type": "code",
   "execution_count": null,
   "metadata": {},
   "outputs": [],
   "source": [
    "'''\n",
    "Index:\n",
    "0: pickup_datetime\n",
    "1: dropoff_datetime\n",
    "2: trip_distance\n",
    "3: pickup_loc\n",
    "4: dropoff_loc\n",
    "5: fare_amount\n",
    "6: total_amount\n",
    "7: duration\n",
    "'''"
   ]
  },
  {
   "cell_type": "code",
   "execution_count": 14,
   "metadata": {},
   "outputs": [],
   "source": [
    "from pyspark.sql import SQLContext\n",
    "sqlContext = SQLContext(sc)\n",
    "df = sqlContext.createDataFrame(data_MSG, [\"pickup_datetime\",\"dropoff_datetime\",\"trip_distance\",\"pickup_loc\",\"dropoff_loc\",\"fare_amount\",\"total_amount\",\"duration\"])                                                                   \n",
    "df.write.format(\"com.databricks.spark.csv\").options(header=\"true\").save(\"tripsFromMSG.csv\") "
   ]
  },
  {
   "cell_type": "code",
   "execution_count": 17,
   "metadata": {},
   "outputs": [
    {
     "name": "stdout",
     "output_type": "stream",
     "text": [
      "+-------------------+-------------------+-------------+----------+-----------+-----------+------------+--------+\n",
      "|    pickup_datetime|   dropoff_datetime|trip_distance|pickup_loc|dropoff_loc|fare_amount|total_amount|duration|\n",
      "+-------------------+-------------------+-------------+----------+-----------+-----------+------------+--------+\n",
      "|2014-05-29 13:49:00|2014-05-29 14:19:00|         3.44|   dr5ru60|    dr5rvnc|       19.5|        20.0|  1800.0|\n",
      "|2014-05-29 22:13:00|2014-05-29 22:20:00|         0.97|   dr5ru4x|    dr5ruh5|        6.5|         8.9|   420.0|\n",
      "|2014-05-31 01:33:00|2014-05-31 01:39:00|         1.47|   dr5ru60|    dr5rudm|        6.5|         8.0|   360.0|\n",
      "|2014-05-12 09:52:17|2014-05-12 10:05:17|          1.2|   dr5ru62|    dr5ru8v|        9.5|        12.0|   780.0|\n",
      "|2014-05-12 07:26:36|2014-05-12 07:39:44|          2.1|   dr5ru60|    dr5ruv0|       10.5|       13.75|   788.0|\n",
      "|2014-05-12 08:37:03|2014-05-12 08:43:28|          1.0|   dr5ru63|    dr5ru2s|        6.0|        8.45|   385.0|\n",
      "|2014-05-12 14:57:54|2014-05-12 15:04:21|          0.9|   dr5ru60|    dr5ru20|        6.0|         8.5|   387.0|\n",
      "|2014-05-12 06:11:41|2014-05-12 06:15:29|          1.3|   dr5ru61|    dr5ruek|        6.0|        8.45|   228.0|\n",
      "|2014-05-12 10:53:06|2014-05-12 11:28:20|          3.5|   dr5ru4r|    dr5rvjq|       22.0|        24.5|  2114.0|\n",
      "|2014-05-11 20:14:24|2014-05-11 20:22:51|          1.1|   dr5ru62|    dr5ru2z|        7.0|         7.5|   507.0|\n",
      "+-------------------+-------------------+-------------+----------+-----------+-----------+------------+--------+\n",
      "only showing top 10 rows\n",
      "\n"
     ]
    }
   ],
   "source": [
    "df.show(10)"
   ]
  }
 ],
 "metadata": {
  "kernelspec": {
   "display_name": "Python 3 (Intel, 2018)",
   "language": "python",
   "name": "intel_distribution_of_python_3_2018"
  },
  "language_info": {
   "codemirror_mode": {
    "name": "ipython",
    "version": 3
   },
   "file_extension": ".py",
   "mimetype": "text/x-python",
   "name": "python",
   "nbconvert_exporter": "python",
   "pygments_lexer": "ipython3",
   "version": "3.6.2"
  }
 },
 "nbformat": 4,
 "nbformat_minor": 2
}
